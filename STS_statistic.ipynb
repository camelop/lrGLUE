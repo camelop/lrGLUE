{
 "cells": [
  {
   "cell_type": "code",
   "execution_count": 2,
   "metadata": {},
   "outputs": [],
   "source": [
    "# STS\n",
    "import pandas as pd\n",
    "from csv import QUOTE_NONE\n",
    "data_dir = \"./data/glue_data/STS-B/\"\n",
    "def read_table(loc):\n",
    "    return pd.read_csv(loc, sep='\\t', index_col=0, quoting=QUOTE_NONE)\n",
    "train = read_table(data_dir+\"train.tsv\")\n",
    "dev = read_table(data_dir+\"dev.tsv\")\n",
    "test = read_table(data_dir+\"test.tsv\")"
   ]
  },
  {
   "cell_type": "code",
   "execution_count": 33,
   "metadata": {},
   "outputs": [],
   "source": [
    "train_input1 = train['sentence1'].tolist()\n",
    "train_input2 = train['sentence2'].tolist()\n",
    "train_input = list(zip(train_input1, train_input2))\n",
    "train_output = train['score'].tolist()\n",
    "dev_input = list(zip(dev['sentence1'].tolist(), dev['sentence2'].tolist()))\n",
    "dev_output = dev['score'].tolist()"
   ]
  },
  {
   "cell_type": "markdown",
   "metadata": {},
   "source": [
    "# Similarity based on co-existance.\n",
    "but simple and naive"
   ]
  },
  {
   "cell_type": "code",
   "execution_count": 34,
   "metadata": {},
   "outputs": [
    {
     "name": "stderr",
     "output_type": "stream",
     "text": [
      "[nltk_data] Downloading package punkt to\n",
      "[nltk_data]     /slfs1/users/xyl98/nltk_data...\n",
      "[nltk_data]   Package punkt is already up-to-date!\n"
     ]
    }
   ],
   "source": [
    "import nltk\n",
    "nltk.download('punkt')\n",
    "from nltk import word_tokenize\n",
    "from nltk.tokenize import sent_tokenize\n",
    "tkn = lambda x: word_tokenize(sent_tokenize(x)[0])"
   ]
  },
  {
   "cell_type": "code",
   "execution_count": 43,
   "metadata": {},
   "outputs": [],
   "source": [
    "def similarity(s1, s2, tkn=word_tokenize):\n",
    "    ws1 = [w.lower() for w in tkn(s1) if w != '.']\n",
    "    ws2 = [w.lower() for w in tkn(s2) if w != '.']\n",
    "    mark1 = 0.5 * len([w for w in ws1 if w in ws2]) / len(ws1)\n",
    "    mark2 = 0.5 * len([w for w in ws2 if w in ws1]) / len(ws2)\n",
    "    return mark1+mark2"
   ]
  },
  {
   "cell_type": "code",
   "execution_count": 44,
   "metadata": {},
   "outputs": [],
   "source": [
    "def calc(s1, s2):\n",
    "    return 5*similarity(s1, s2)"
   ]
  },
  {
   "cell_type": "code",
   "execution_count": 45,
   "metadata": {},
   "outputs": [
    {
     "name": "stdout",
     "output_type": "stream",
     "text": [
      "A plane is taking off.\n",
      "An air plane is taking off.\n",
      "Expect:\t 5.0\n",
      "Actual:\t 3.666666666666667\n",
      "\n",
      "A man is playing a large flute.\n",
      "A man is playing a flute.\n",
      "Expect:\t 3.8\n",
      "Actual:\t 4.642857142857143\n",
      "\n",
      "A man is spreading shreded cheese on a pizza.\n",
      "A man is spreading shredded cheese on an uncooked pizza.\n",
      "Expect:\t 3.8\n",
      "Actual:\t 3.972222222222222\n",
      "\n",
      "Three men are playing chess.\n",
      "Two men are playing chess.\n",
      "Expect:\t 2.6\n",
      "Actual:\t 4.0\n",
      "\n",
      "A man is playing the cello.\n",
      "A man seated is playing the cello.\n",
      "Expect:\t 4.25\n",
      "Actual:\t 4.642857142857143\n",
      "\n",
      "Some men are fighting.\n",
      "Two men are fighting.\n",
      "Expect:\t 4.25\n",
      "Actual:\t 3.75\n",
      "\n",
      "A man is smoking.\n",
      "A man is skating.\n",
      "Expect:\t 0.5\n",
      "Actual:\t 3.75\n",
      "\n",
      "The man is playing the piano.\n",
      "The man is playing the guitar.\n",
      "Expect:\t 1.6\n",
      "Actual:\t 4.166666666666667\n",
      "\n",
      "A man is playing on a guitar and singing.\n",
      "A woman is playing an acoustic guitar and singing.\n",
      "Expect:\t 2.2\n",
      "Actual:\t 3.611111111111111\n",
      "\n",
      "A person is throwing a cat on to the ceiling.\n",
      "A person throws a cat on the ceiling.\n",
      "Expect:\t 5.0\n",
      "Actual:\t 3.9375\n",
      "\n"
     ]
    }
   ],
   "source": [
    "for i in range(0, 10):\n",
    "    s1, s2 = train_input[i]\n",
    "    print(s1)\n",
    "    print(s2)\n",
    "    print(\"Expect:\\t\", train_output[i])    \n",
    "    print(\"Actual:\\t\", calc(s1, s2))\n",
    "    print()"
   ]
  },
  {
   "cell_type": "markdown",
   "metadata": {},
   "source": [
    "## Evaluation"
   ]
  },
  {
   "cell_type": "code",
   "execution_count": 54,
   "metadata": {},
   "outputs": [],
   "source": [
    "import numpy as np\n",
    "import scipy\n",
    "from scipy.stats import pearsonr\n",
    "def evaluate(output, pred):\n",
    "    return pearsonr(output, pred)[0]"
   ]
  },
  {
   "cell_type": "code",
   "execution_count": 55,
   "metadata": {},
   "outputs": [
    {
     "data": {
      "text/plain": [
       "0.5609705563764735"
      ]
     },
     "execution_count": 55,
     "metadata": {},
     "output_type": "execute_result"
    }
   ],
   "source": [
    "train_pred = [calc(s1, s2) for s1, s2 in train_input]\n",
    "evaluate(train_output, train_pred)"
   ]
  },
  {
   "cell_type": "code",
   "execution_count": 56,
   "metadata": {},
   "outputs": [
    {
     "data": {
      "text/plain": [
       "0.6208314538664363"
      ]
     },
     "execution_count": 56,
     "metadata": {},
     "output_type": "execute_result"
    }
   ],
   "source": [
    "dev_pred = [calc(s1, s2) for s1, s2 in dev_input]\n",
    "evaluate(dev_output, dev_pred)"
   ]
  }
 ],
 "metadata": {
  "kernelspec": {
   "display_name": "Python 3",
   "language": "python",
   "name": "python3"
  },
  "language_info": {
   "codemirror_mode": {
    "name": "ipython",
    "version": 3
   },
   "file_extension": ".py",
   "mimetype": "text/x-python",
   "name": "python",
   "nbconvert_exporter": "python",
   "pygments_lexer": "ipython3",
   "version": "3.7.3"
  }
 },
 "nbformat": 4,
 "nbformat_minor": 2
}
