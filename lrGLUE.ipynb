{
 "cells": [
  {
   "cell_type": "markdown",
   "metadata": {},
   "source": [
    "# lrGLUE\n",
    "A NLU system for [NLP4U2019](http://bcmi.sjtu.edu.cn/home/zhaohai/nlp4u2019/) coursework, focusing on 2 tasks(CoLA and STS) in [GLUE benchmark](https://gluebenchmark.com/).\n",
    "\n",
    "## About the tasks\n",
    "- [CoLA - about](./CoLA_about.ipynb)\n",
    "- [STS - about](./STS_about.ipynb)\n",
    "\n",
    "## About generating embeddings\n",
    "- [BERT](./BERT.ipynb)"
   ]
  },
  {
   "cell_type": "markdown",
   "metadata": {},
   "source": [
    "## Setup the working flow"
   ]
  },
  {
   "cell_type": "markdown",
   "metadata": {},
   "source": [
    "### Download the related data (this may take a while)"
   ]
  },
  {
   "cell_type": "code",
   "execution_count": 7,
   "metadata": {},
   "outputs": [
    {
     "name": "stdout",
     "output_type": "stream",
     "text": [
      "Downloading and extracting CoLA...\n",
      "\tCompleted!\n",
      "Downloading and extracting STS...\n",
      "\tCompleted!\n"
     ]
    }
   ],
   "source": [
    "!cd data && python download_glue_data.py --data_dir glue_data --tasks CoLA,STS"
   ]
  },
  {
   "cell_type": "markdown",
   "metadata": {},
   "source": [
    "### Download an example submission (this may take a while)\n",
    "use the command below (on linux) or just download from [here](https://goo.gl/aYbxjR) and put it in ```data/example_submission```"
   ]
  },
  {
   "cell_type": "code",
   "execution_count": 8,
   "metadata": {},
   "outputs": [
    {
     "name": "stderr",
     "output_type": "stream",
     "text": [
      "'wget' 不是内部或外部命令，也不是可运行的程序\n",
      "或批处理文件。\n"
     ]
    }
   ],
   "source": [
    "!cd data && mkdir example_submission && cd example_submission && wget https://goo.gl/aYbxjR"
   ]
  },
  {
   "cell_type": "markdown",
   "metadata": {},
   "source": [
    "### Example: GLUE-baselines (optional)"
   ]
  },
  {
   "cell_type": "markdown",
   "metadata": {},
   "source": [
    "You can visit it [here](https://github.com/nyu-mll/GLUE-baselines)."
   ]
  }
 ],
 "metadata": {
  "kernelspec": {
   "display_name": "Python 3",
   "language": "python",
   "name": "python3"
  },
  "language_info": {
   "codemirror_mode": {
    "name": "ipython",
    "version": 3
   },
   "file_extension": ".py",
   "mimetype": "text/x-python",
   "name": "python",
   "nbconvert_exporter": "python",
   "pygments_lexer": "ipython3",
   "version": "3.7.1"
  }
 },
 "nbformat": 4,
 "nbformat_minor": 2
}
