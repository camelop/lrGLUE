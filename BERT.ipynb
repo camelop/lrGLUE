{
 "cells": [
  {
   "cell_type": "markdown",
   "metadata": {},
   "source": [
    "# BERT embedding"
   ]
  },
  {
   "cell_type": "markdown",
   "metadata": {},
   "source": [
    "## use bert-embeddings [link](https://bert-embedding.readthedocs.io/en/latest/) (deprecated)"
   ]
  },
  {
   "cell_type": "code",
   "execution_count": 1,
   "metadata": {},
   "outputs": [
    {
     "data": {
      "text/plain": [
       "'1.3.1'"
      ]
     },
     "execution_count": 1,
     "metadata": {},
     "output_type": "execute_result"
    }
   ],
   "source": [
    "import mxnet\n",
    "mxnet.__version__"
   ]
  },
  {
   "cell_type": "markdown",
   "metadata": {},
   "source": [
    "Unfortunately, this only support nightly version of MXNET"
   ]
  },
  {
   "cell_type": "markdown",
   "metadata": {},
   "source": [
    "## use BERT-as-a-Service （deprecated）\n",
    "[https://github.com/hanxiao/bert-as-service](https://github.com/hanxiao/bert-as-service)\n",
    "\n",
    "### download the pre-trained model\n",
    "You can also manually download it [here](https://storage.googleapis.com/bert_models/2018_10_18/uncased_L-24_H-1024_A-16.zip) (all models [here](https://github.com/google-research/bert#pre-trained-models))."
   ]
  },
  {
   "cell_type": "code",
   "execution_count": 1,
   "metadata": {},
   "outputs": [
    {
     "name": "stderr",
     "output_type": "stream",
     "text": [
      "'wget' 不是内部或外部命令，也不是可运行的程序\n",
      "或批处理文件。\n"
     ]
    }
   ],
   "source": [
    "! cd data && mkdir bert && wget https://storage.googleapis.com/bert_models/2018_10_18/uncased_L-24_H-1024_A-16.zip"
   ]
  },
  {
   "cell_type": "markdown",
   "metadata": {},
   "source": [
    "### server side\n",
    "- install the package"
   ]
  },
  {
   "cell_type": "code",
   "execution_count": 8,
   "metadata": {
    "scrolled": true
   },
   "outputs": [
    {
     "name": "stdout",
     "output_type": "stream",
     "text": [
      "Looking in indexes: https://mirrors.aliyun.com/pypi/simple/\n",
      "Requirement already satisfied: bert-serving-server in c:\\users\\littleround\\anaconda3\\lib\\site-packages (1.8.9)\n",
      "Requirement already satisfied: tensorflow in c:\\users\\littleround\\anaconda3\\lib\\site-packages (1.13.1)\n",
      "Requirement already satisfied: pyzmq>=17.1.0 in c:\\users\\littleround\\anaconda3\\lib\\site-packages (from bert-serving-server) (17.1.2)\n",
      "Requirement already satisfied: numpy in c:\\users\\littleround\\anaconda3\\lib\\site-packages (from bert-serving-server) (1.14.6)\n",
      "Requirement already satisfied: six in c:\\users\\littleround\\anaconda3\\lib\\site-packages (from bert-serving-server) (1.12.0)\n",
      "Requirement already satisfied: termcolor>=1.1 in c:\\users\\littleround\\anaconda3\\lib\\site-packages (from bert-serving-server) (1.1.0)\n",
      "Requirement already satisfied: GPUtil>=1.3.0 in c:\\users\\littleround\\anaconda3\\lib\\site-packages (from bert-serving-server) (1.4.0)\n",
      "Requirement already satisfied: astor>=0.6.0 in c:\\users\\littleround\\anaconda3\\lib\\site-packages (from tensorflow) (0.7.1)\n",
      "Requirement already satisfied: keras-preprocessing>=1.0.5 in c:\\users\\littleround\\anaconda3\\lib\\site-packages (from tensorflow) (1.0.9)\n",
      "Requirement already satisfied: tensorflow-estimator<1.14.0rc0,>=1.13.0 in c:\\users\\littleround\\anaconda3\\lib\\site-packages (from tensorflow) (1.13.0)\n",
      "Requirement already satisfied: grpcio>=1.8.6 in c:\\users\\littleround\\anaconda3\\lib\\site-packages (from tensorflow) (1.20.1)\n",
      "Requirement already satisfied: wheel>=0.26 in c:\\users\\littleround\\anaconda3\\lib\\site-packages (from tensorflow) (0.32.3)\n",
      "Requirement already satisfied: protobuf>=3.6.1 in c:\\users\\littleround\\anaconda3\\lib\\site-packages (from tensorflow) (3.7.1)\n",
      "Requirement already satisfied: tensorboard<1.14.0,>=1.13.0 in c:\\users\\littleround\\anaconda3\\lib\\site-packages (from tensorflow) (1.13.1)\n",
      "Requirement already satisfied: gast>=0.2.0 in c:\\users\\littleround\\anaconda3\\lib\\site-packages (from tensorflow) (0.2.2)\n",
      "Requirement already satisfied: absl-py>=0.1.6 in c:\\users\\littleround\\anaconda3\\lib\\site-packages (from tensorflow) (0.7.1)\n",
      "Requirement already satisfied: keras-applications>=1.0.6 in c:\\users\\littleround\\anaconda3\\lib\\site-packages (from tensorflow) (1.0.7)\n",
      "Requirement already satisfied: mock>=2.0.0 in c:\\users\\littleround\\anaconda3\\lib\\site-packages (from tensorflow-estimator<1.14.0rc0,>=1.13.0->tensorflow) (3.0.5)\n",
      "Requirement already satisfied: setuptools in c:\\users\\littleround\\anaconda3\\lib\\site-packages (from protobuf>=3.6.1->tensorflow) (40.6.3)\n",
      "Requirement already satisfied: werkzeug>=0.11.15 in c:\\users\\littleround\\anaconda3\\lib\\site-packages (from tensorboard<1.14.0,>=1.13.0->tensorflow) (0.14.1)\n",
      "Requirement already satisfied: markdown>=2.6.8 in c:\\users\\littleround\\anaconda3\\lib\\site-packages (from tensorboard<1.14.0,>=1.13.0->tensorflow) (3.1)\n",
      "Requirement already satisfied: h5py in c:\\users\\littleround\\anaconda3\\lib\\site-packages (from keras-applications>=1.0.6->tensorflow) (2.8.0)\n"
     ]
    }
   ],
   "source": [
    "!pip install bert-serving-server tensorflow"
   ]
  },
  {
   "cell_type": "markdown",
   "metadata": {},
   "source": [
    "- start the service"
   ]
  },
  {
   "cell_type": "code",
   "execution_count": 9,
   "metadata": {},
   "outputs": [
    {
     "name": "stderr",
     "output_type": "stream",
     "text": [
      "2019-05-08 20:21:18.036060: F tensorflow/python/lib/core/bfloat16.cc:675] Check failed: PyBfloat16_Type.tp_base != nullptr \n"
     ]
    }
   ],
   "source": [
    "# !bert-serving-start -model_dir ./data/bert/uncased_L-24_H-1024_A-16 -num_worker=1\n",
    "# do not run this in jupyter notebook, run in shell instead"
   ]
  },
  {
   "cell_type": "markdown",
   "metadata": {},
   "source": [
    "### client side"
   ]
  },
  {
   "cell_type": "code",
   "execution_count": 3,
   "metadata": {},
   "outputs": [
    {
     "name": "stdout",
     "output_type": "stream",
     "text": [
      "Looking in indexes: https://mirrors.aliyun.com/pypi/simple/\n",
      "Collecting bert-serving-client\n",
      "  Downloading https://mirrors.aliyun.com/pypi/packages/96/ed/23f3d7c1f897e09944c16d066e0e52bb83d0d94fdfe0dc9bb53ce1810ca1/bert_serving_client-1.8.9-py2.py3-none-any.whl\n",
      "Requirement already satisfied: numpy in c:\\users\\littleround\\anaconda3\\lib\\site-packages (from bert-serving-client) (1.14.6)\n",
      "Requirement already satisfied: pyzmq>=17.1.0 in c:\\users\\littleround\\anaconda3\\lib\\site-packages (from bert-serving-client) (17.1.2)\n",
      "Installing collected packages: bert-serving-client\n",
      "Successfully installed bert-serving-client-1.8.9\n"
     ]
    }
   ],
   "source": [
    "!pip install bert-serving-client"
   ]
  },
  {
   "cell_type": "code",
   "execution_count": null,
   "metadata": {},
   "outputs": [],
   "source": [
    "from bert_serving.client import BertClient\n",
    "bc = BertClient()\n",
    "bc.encode(['First do it', 'then do it right', 'then do it better'])"
   ]
  }
 ],
 "metadata": {
  "kernelspec": {
   "display_name": "Python 3",
   "language": "python",
   "name": "python3"
  },
  "language_info": {
   "codemirror_mode": {
    "name": "ipython",
    "version": 3
   },
   "file_extension": ".py",
   "mimetype": "text/x-python",
   "name": "python",
   "nbconvert_exporter": "python",
   "pygments_lexer": "ipython3",
   "version": "3.7.1"
  }
 },
 "nbformat": 4,
 "nbformat_minor": 2
}
